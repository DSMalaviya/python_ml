{
 "cells": [
  {
   "cell_type": "markdown",
   "metadata": {},
   "source": [
    "# pandas"
   ]
  },
  {
   "cell_type": "code",
   "execution_count": 1,
   "metadata": {},
   "outputs": [
    {
     "name": "stdout",
     "output_type": "stream",
     "text": [
      "a    3\n",
      "b    5\n",
      "c    6\n",
      "d    7\n",
      "e    9\n",
      "dtype: int64\n",
      "a    3\n",
      "b    5\n",
      "c    6\n",
      "dtype: int64\n",
      "<class 'pandas.core.series.Series'>\n"
     ]
    }
   ],
   "source": [
    "import pandas as pd\n",
    "data=[3,5,6,7,9]\n",
    "srs=pd.Series(data,index=['a','b','c','d','e'])\n",
    "print(srs)\n",
    "print(srs['a':'c'])\n",
    "print(type(srs))"
   ]
  },
  {
   "cell_type": "code",
   "execution_count": 2,
   "metadata": {},
   "outputs": [
    {
     "name": "stdout",
     "output_type": "stream",
     "text": [
      "   a  b\n",
      "0  2  5\n",
      "1  4  8\n",
      "2  5  9\n",
      "3  6  4\n",
      "   0  1  2    3    4\n",
      "0  1  4  5  6.0  7.0\n",
      "1  3  5  6  NaN  NaN\n"
     ]
    }
   ],
   "source": [
    "data=[[1,4,5,6,7],[3,5,6]]\n",
    "data1={'a':[2,4,5,6],'b':[5,8,9,4]}\n",
    "df=pd.DataFrame(data)\n",
    "df1=pd.DataFrame(data1)\n",
    "print(df1)\n",
    "print(df)"
   ]
  },
  {
   "cell_type": "code",
   "execution_count": null,
   "metadata": {},
   "outputs": [],
   "source": []
  }
 ],
 "metadata": {
  "kernelspec": {
   "display_name": "Python 3",
   "language": "python",
   "name": "python3"
  },
  "language_info": {
   "codemirror_mode": {
    "name": "ipython",
    "version": 3
   },
   "file_extension": ".py",
   "mimetype": "text/x-python",
   "name": "python",
   "nbconvert_exporter": "python",
   "pygments_lexer": "ipython3",
   "version": "3.8.4"
  }
 },
 "nbformat": 4,
 "nbformat_minor": 4
}
